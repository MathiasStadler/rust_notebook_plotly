{
 "cells": [
  {
   "cell_type": "markdown",
   "metadata": {},
   "source": [
    "# First try from [plotly webpages](https://crates.io/crates/plotly)\n"
   ]
  },
  {
   "cell_type": "code",
   "execution_count": 2,
   "metadata": {
    "vscode": {
     "languageId": "rust"
    }
   },
   "outputs": [],
   "source": [
    ":dep plotly = {version = \"0.8.4\"}\n",
    "extern crate plotly;\n",
    "use plotly::{Plot, Scatter};\n",
    "\n",
    "let mut plot = Plot::new();\n",
    "let trace = Scatter::new(vec![0, 1, 2], vec![2, 1, 0]);\n",
    "plot.add_trace(trace);\n",
    "\n",
    "plot.write_html(\"out.html\");"
   ]
  }
 ],
 "metadata": {
  "kernelspec": {
   "display_name": "Rust",
   "language": "rust",
   "name": "rust"
  },
  "language_info": {
   "codemirror_mode": "rust",
   "file_extension": ".rs",
   "mimetype": "text/rust",
   "name": "Rust",
   "pygment_lexer": "rust",
   "version": ""
  }
 },
 "nbformat": 4,
 "nbformat_minor": 2
}
