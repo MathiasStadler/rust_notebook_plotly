{
 "cells": [
  {
   "cell_type": "markdown",
   "metadata": {},
   "source": []
  },
  {
   "cell_type": "markdown",
   "metadata": {},
   "source": [
    "# First try from [plotly webpages](https://crates.io/crates/plotly)\n",
    "\n",
    "- [plot.notebook_display();](https://github.com/plotly/plotly.rs/blob/main/examples/jupyter/jupyter_notebook.ipynb)"
   ]
  },
  {
   "cell_type": "code",
   "execution_count": 5,
   "metadata": {
    "execution": {
     "iopub.execute_input": "2024-05-23T13:40:22.691577Z",
     "iopub.status.busy": "2024-05-23T13:40:22.690344Z",
     "iopub.status.idle": "2024-05-23T13:41:26.327361Z",
     "shell.execute_reply": "2024-05-23T13:41:26.326849Z"
    },
    "vscode": {
     "languageId": "rust"
    }
   },
   "outputs": [
    {
     "data": {
      "text/html": [
       "<div>\n",
       "    <div id=\"xo68C3KzqufoZZOIr5T5\" class=\"plotly-graph-div\" style=\"height:100%; width:100%;\"></div>\n",
       "    <script type=\"text/javascript\">\n",
       "        require(['https://cdn.plot.ly/plotly-2.12.1.min.js'], function(Plotly) {\n",
       "            Plotly.newPlot(\n",
       "                \"xo68C3KzqufoZZOIr5T5\",\n",
       "                {\n",
       "  \"data\": [\n",
       "    {\n",
       "      \"type\": \"scatter\",\n",
       "      \"x\": [\n",
       "        0,\n",
       "        1,\n",
       "        2\n",
       "      ],\n",
       "      \"y\": [\n",
       "        2,\n",
       "        1,\n",
       "        0\n",
       "      ]\n",
       "    }\n",
       "  ],\n",
       "  \"layout\": {},\n",
       "  \"config\": {}\n",
       "}\n",
       "            ).then(function() {\n",
       "                var gd = document.getElementById('xo68C3KzqufoZZOIr5T5');\n",
       "                var x = new MutationObserver(function (mutations, observer) { {\n",
       "                        var display = window.getComputedStyle(gd).display;\n",
       "                        if (!display || display === 'none') { {\n",
       "                            Plotly.purge(gd);\n",
       "                            observer.disconnect();\n",
       "                        } }\n",
       "                } });\n",
       "\n",
       "                // Listen for the removal of the full notebook cells\n",
       "                var notebookContainer = gd.closest('#notebook-container');\n",
       "                if (notebookContainer) { {\n",
       "                    x.observe(notebookContainer, {childList: true});\n",
       "                } }\n",
       "\n",
       "                // Listen for the clearing of the current output cell\n",
       "                var outputEl = gd.closest('.output');\n",
       "                if (outputEl) { {\n",
       "                    x.observe(outputEl, {childList: true});\n",
       "                } }\n",
       "            })\n",
       "        });\n",
       "    </script>\n",
       "</div>"
      ]
     },
     "execution_count": 5,
     "metadata": {},
     "output_type": "execute_result"
    }
   ],
   "source": [
    ":dep plotly = {version = \"0.8.4\"}\n",
    "extern crate plotly;\n",
    "use plotly::{Plot, Scatter};\n",
    "\n",
    "let mut plot = Plot::new();\n",
    "let trace = Scatter::new(vec![0, 1, 2], vec![2, 1, 0]);\n",
    "plot.add_trace(trace);\n",
    "plot.notebook_display();\n",
    "\n",
    "//plot.write_html(\"out.html\");\n"
   ]
  },
  {
   "cell_type": "markdown",
   "metadata": {},
   "source": [
    "# command line\n",
    "\n",
    "```bash\n",
    "jupyter nbconvert --ExecutePreprocessor.timeout=600 --to pdf --execute Rust_notebook_plotly.ipynb\n",
    "```"
   ]
  },
  {
   "cell_type": "markdown",
   "metadata": {},
   "source": [
    "```bash\n",
    "jupyter execute --kernel_name=rust --inplace Rust_notebook_plotly.ipynb\n",
    "```\n"
   ]
  },
  {
   "cell_type": "markdown",
   "metadata": {},
   "source": [
    "jupyter execute --kernel_name=rust --inplace Rust_notebook_plotly.ipynb"
   ]
  },
  {
   "cell_type": "markdown",
   "metadata": {},
   "source": [
    "/home/trapapa/rust_notebook_plotly/Rust_notebook_plotly.html"
   ]
  },
  {
   "cell_type": "markdown",
   "metadata": {},
   "source": [
    "jupyter nbconvert --execute --to html Rust_notebook_plotly.ipynb"
   ]
  },
  {
   "cell_type": "markdown",
   "metadata": {},
   "source": [
    "jupyter nbconvert --execute --to pdf Rust_notebook_plotly.ipynb"
   ]
  },
  {
   "cell_type": "markdown",
   "metadata": {},
   "source": [
    "--TemplateExporter.exclude_input=True\n",
    "https://stackoverflow.com/questions/49754862/jupyter-notebook-save-to-pdf-without-code\n",
    "jupyter nbconvert volume_stats.ipynb --to=pdf --TemplateExporter.exclude_input=True\n",
    "\n",
    "jupyter nbconvert --kernel_name=rust --execute --to pdf Rust_notebook_plotly.ipynb\n",
    "\n",
    "jupyter nbconvert --kernel_name=rust --execute --to pdf Rust_note\n",
    "book_plotly.ipynb\n",
    "\n",
    " jupyter nbconvert --execute --to pdf Rust_notebook_plotly.ipynb"
   ]
  }
 ],
 "metadata": {
  "kernelspec": {
   "display_name": "Rust",
   "language": "rust",
   "name": "rust"
  },
  "language_info": {
   "codemirror_mode": "rust",
   "file_extension": ".rs",
   "mimetype": "text/rust",
   "name": "Rust",
   "pygment_lexer": "rust",
   "version": ""
  }
 },
 "nbformat": 4,
 "nbformat_minor": 2
}
