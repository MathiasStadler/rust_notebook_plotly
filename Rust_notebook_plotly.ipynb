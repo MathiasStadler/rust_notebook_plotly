{
 "cells": [
  {
   "cell_type": "markdown",
   "metadata": {},
   "source": [
    "# First try from [plotly webpages](https://crates.io/crates/plotly)\n",
    "\n",
    "- [plot.notebook_display();](https://github.com/plotly/plotly.rs/blob/main/examples/jupyter/jupyter_notebook.ipynb)"
   ]
  },
  {
   "cell_type": "code",
   "execution_count": 1,
   "metadata": {
    "execution": {
     "iopub.execute_input": "2024-05-25T08:50:29.168081Z",
     "iopub.status.busy": "2024-05-25T08:50:29.167309Z",
     "iopub.status.idle": "2024-05-25T08:51:32.700097Z",
     "shell.execute_reply": "2024-05-25T08:51:32.699581Z"
    },
    "vscode": {
     "languageId": "rust"
    }
   },
   "outputs": [
    {
     "data": {
      "text/html": [
       "<div>\n",
       "    <div id=\"T15sSzrxr6c12ue1lv7P\" class=\"plotly-graph-div\" style=\"height:100%; width:100%;\"></div>\n",
       "    <script type=\"text/javascript\">\n",
       "        require(['https://cdn.plot.ly/plotly-2.12.1.min.js'], function(Plotly) {\n",
       "            Plotly.newPlot(\n",
       "                \"T15sSzrxr6c12ue1lv7P\",\n",
       "                {\n",
       "  \"data\": [\n",
       "    {\n",
       "      \"type\": \"scatter\",\n",
       "      \"x\": [\n",
       "        0,\n",
       "        1,\n",
       "        2\n",
       "      ],\n",
       "      \"y\": [\n",
       "        2,\n",
       "        1,\n",
       "        0\n",
       "      ]\n",
       "    }\n",
       "  ],\n",
       "  \"layout\": {},\n",
       "  \"config\": {}\n",
       "}\n",
       "            ).then(function() {\n",
       "                var gd = document.getElementById('T15sSzrxr6c12ue1lv7P');\n",
       "                var x = new MutationObserver(function (mutations, observer) { {\n",
       "                        var display = window.getComputedStyle(gd).display;\n",
       "                        if (!display || display === 'none') { {\n",
       "                            Plotly.purge(gd);\n",
       "                            observer.disconnect();\n",
       "                        } }\n",
       "                } });\n",
       "\n",
       "                // Listen for the removal of the full notebook cells\n",
       "                var notebookContainer = gd.closest('#notebook-container');\n",
       "                if (notebookContainer) { {\n",
       "                    x.observe(notebookContainer, {childList: true});\n",
       "                } }\n",
       "\n",
       "                // Listen for the clearing of the current output cell\n",
       "                var outputEl = gd.closest('.output');\n",
       "                if (outputEl) { {\n",
       "                    x.observe(outputEl, {childList: true});\n",
       "                } }\n",
       "            })\n",
       "        });\n",
       "    </script>\n",
       "</div>"
      ]
     },
     "execution_count": 2,
     "metadata": {},
     "output_type": "execute_result"
    }
   ],
   "source": [
    ":dep plotly = {version = \"0.8.4\"}\n",
    "extern crate plotly;\n",
    "use plotly::{Plot, Scatter};\n",
    "\n",
    "let mut plot = Plot::new();\n",
    "let trace = Scatter::new(vec![0, 1, 2], vec![2, 1, 0]);\n",
    "plot.add_trace(trace);\n",
    "plot.notebook_display();\n",
    "\n",
    "//plot.write_html(\"out.html\");\n"
   ]
  },
  {
   "cell_type": "markdown",
   "metadata": {},
   "source": [
    "# command line\n",
    "\n",
    "```bash\n",
    "jupyter nbconvert --ExecutePreprocessor.timeout=600 --to pdf --execute Rust_notebook_plotly.ipynb\n",
    "```"
   ]
  },
  {
   "cell_type": "markdown",
   "metadata": {},
   "source": [
    "```bash\n",
    "jupyter execute --kernel_name=rust --inplace Rust_notebook_plotly.ipynb\n",
    "```\n"
   ]
  },
  {
   "cell_type": "markdown",
   "metadata": {},
   "source": [
    "jupyter execute --kernel_name=rust --inplace Rust_notebook_plotly.ipynb"
   ]
  },
  {
   "cell_type": "markdown",
   "metadata": {},
   "source": [
    "/home/trapapa/rust_notebook_plotly/Rust_notebook_plotly.html"
   ]
  },
  {
   "cell_type": "markdown",
   "metadata": {},
   "source": [
    "jupyter nbconvert --execute --to html Rust_notebook_plotly.ipynb"
   ]
  },
  {
   "cell_type": "markdown",
   "metadata": {},
   "source": [
    "jupyter nbconvert --execute --to pdf Rust_notebook_plotly.ipynb"
   ]
  },
  {
   "cell_type": "markdown",
   "metadata": {},
   "source": [
    "--TemplateExporter.exclude_input=True\n",
    "https://stackoverflow.com/questions/49754862/jupyter-notebook-save-to-pdf-without-code\n",
    "jupyter nbconvert volume_stats.ipynb --to=pdf --TemplateExporter.exclude_input=True\n",
    "\n",
    "jupyter nbconvert --kernel_name=rust --execute --to pdf Rust_notebook_plotly.ipynb\n",
    "\n",
    "jupyter nbconvert --kernel_name=rust --execute --to pdf Rust_note\n",
    "book_plotly.ipynb\n",
    "\n",
    " jupyter nbconvert --execute --to pdf Rust_notebook_plotly.ipynb"
   ]
  },
  {
   "cell_type": "markdown",
   "metadata": {},
   "source": [
    "jupyter nbconvert --execute --to pdf Rust_notebook_plotly.ipynb\n",
    "\n",
    " jupyter-nbconvert  --execute --no-input --to html Rust_notebook_plotly.ipynb\n",
    "\n",
    " jupyter-nbconvert  --execute --no-input --to pdf Rust_notebook_plotly.ipynb\n",
    "\n",
    " pandoc --to pdf --from ipynb -o Untitled.pdf Rust_notebook_plotly.ipynb \n",
    "\n",
    "# FROM HERE https://github.com/jgm/pandoc/issues/5354\n",
    "pandoc -t pdf -f ipynb -o Untitled.pdf Rust_notebook_plotly.ipynb --ipynb-output=all\n",
    "\n",
    "jupyter nbconvert --to webpdf Rust_notebook_plotly.ipynb\n",
    "\n",
    "# GET ERROR\n",
    "RuntimeError: Playwright is not installed to support Web PDF conversion. Please install `nbconvert[webpdf]` to enable.\n",
    "\n",
    "\n",
    "# \n",
    "jupyter nbconvert --to webpdf --allow-chromium-download Rust_notebook_plotly.ipynb --debug --no-input\n",
    "\n",
    "\n",
    "pip install pyppeteer\n",
    "\n",
    "// FROM HERE \n",
    "// https://github.com/langchain-ai/langchain/issues/8338\n",
    "pip install playwright\n",
    "\n",
    "\n",
    " "
   ]
  },
  {
   "cell_type": "markdown",
   "metadata": {},
   "source": [
    "# Test png image\n",
    "![test png](./png/PNG_Test.png)\n",
    "<img src='png/PNG_Test.png' alt='alt text'  />\n",
    "\n",
    "\n"
   ]
  },
  {
   "cell_type": "markdown",
   "metadata": {},
   "source": [
    "# final command\n",
    "- execute cell with rust\n",
    "- print cell output to html or pdf\n",
    "- include pmg from local filesystem\n",
    "\n",
    "\n",
    "# pdf\n",
    "```bash\n",
    "jupyter-nbconvert  --embed-images --execute --no-input --to webpdf Rust_notebook_plotly.ipynb\n",
    "\n",
    "jupyter nbconvert --to webpdf --allow-chromium-download Rust_notebook_plotly.ipynb --debug --no-input --embed-images --output out\n",
    "```\n",
    "# html\n",
    "```bash\n",
    "jupyter-nbconvert  --embed-images --execute --no-input --to html Rust_notebook_plotly.ipynb\n",
    "```\n",
    "\n",
    "- https://nbconvert.readthedocs.io/en/latest/_sources/usage.rst.txt"
   ]
  }
 ],
 "metadata": {
  "kernelspec": {
   "display_name": "Rust",
   "language": "rust",
   "name": "rust"
  },
  "language_info": {
   "codemirror_mode": "rust",
   "file_extension": ".rs",
   "mimetype": "text/rust",
   "name": "Rust",
   "pygment_lexer": "rust",
   "version": ""
  }
 },
 "nbformat": 4,
 "nbformat_minor": 2
}
